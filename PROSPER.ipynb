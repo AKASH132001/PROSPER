{
 "cells": [
  {
   "cell_type": "markdown",
   "id": "173176a8-939a-4247-a3d5-f9aa40dc25c1",
   "metadata": {},
   "source": [
    "# IMPORT LIBRARIES"
   ]
  },
  {
   "cell_type": "code",
   "execution_count": 23,
   "id": "c67609b9-e215-4e4b-a707-f20d33d3bf37",
   "metadata": {},
   "outputs": [],
   "source": [
    "import pandas as pd\n",
    "import numpy as np\n",
    "import matplotlib.pylab as plt\n",
    "import seaborn as sns"
   ]
  },
  {
   "cell_type": "markdown",
   "id": "bc6e3340-8cd1-4e06-bd2b-e9abf0dda903",
   "metadata": {},
   "source": [
    "# READ DATASET"
   ]
  },
  {
   "cell_type": "code",
   "execution_count": 24,
   "id": "fd0d951d-71d6-404c-a296-7278ff0b7581",
   "metadata": {},
   "outputs": [],
   "source": [
    "df = pd.read_csv('prosperLoanData.csv')"
   ]
  },
  {
   "cell_type": "code",
   "execution_count": 27,
   "id": "2e0d9f5c-6e47-42ca-9ae4-428638f96d67",
   "metadata": {},
   "outputs": [
    {
     "data": {
      "text/html": [
       "<div>\n",
       "<style scoped>\n",
       "    .dataframe tbody tr th:only-of-type {\n",
       "        vertical-align: middle;\n",
       "    }\n",
       "\n",
       "    .dataframe tbody tr th {\n",
       "        vertical-align: top;\n",
       "    }\n",
       "\n",
       "    .dataframe thead th {\n",
       "        text-align: right;\n",
       "    }\n",
       "</style>\n",
       "<table border=\"1\" class=\"dataframe\">\n",
       "  <thead>\n",
       "    <tr style=\"text-align: right;\">\n",
       "      <th></th>\n",
       "      <th>ListingKey</th>\n",
       "      <th>ListingNumber</th>\n",
       "      <th>ListingCreationDate</th>\n",
       "      <th>CreditGrade</th>\n",
       "      <th>Term</th>\n",
       "      <th>LoanStatus</th>\n",
       "      <th>ClosedDate</th>\n",
       "      <th>BorrowerAPR</th>\n",
       "      <th>BorrowerRate</th>\n",
       "      <th>LenderYield</th>\n",
       "      <th>...</th>\n",
       "      <th>LP_ServiceFees</th>\n",
       "      <th>LP_CollectionFees</th>\n",
       "      <th>LP_GrossPrincipalLoss</th>\n",
       "      <th>LP_NetPrincipalLoss</th>\n",
       "      <th>LP_NonPrincipalRecoverypayments</th>\n",
       "      <th>PercentFunded</th>\n",
       "      <th>Recommendations</th>\n",
       "      <th>InvestmentFromFriendsCount</th>\n",
       "      <th>InvestmentFromFriendsAmount</th>\n",
       "      <th>Investors</th>\n",
       "    </tr>\n",
       "  </thead>\n",
       "  <tbody>\n",
       "    <tr>\n",
       "      <th>0</th>\n",
       "      <td>1021339766868145413AB3B</td>\n",
       "      <td>193129</td>\n",
       "      <td>2007-08-26 19:09:29.263000000</td>\n",
       "      <td>C</td>\n",
       "      <td>36</td>\n",
       "      <td>Completed</td>\n",
       "      <td>2009-08-14 00:00:00</td>\n",
       "      <td>0.16516</td>\n",
       "      <td>0.1580</td>\n",
       "      <td>0.1380</td>\n",
       "      <td>...</td>\n",
       "      <td>-133.18</td>\n",
       "      <td>0.0</td>\n",
       "      <td>0.0</td>\n",
       "      <td>0.0</td>\n",
       "      <td>0.0</td>\n",
       "      <td>1.0</td>\n",
       "      <td>0</td>\n",
       "      <td>0</td>\n",
       "      <td>0.0</td>\n",
       "      <td>258</td>\n",
       "    </tr>\n",
       "    <tr>\n",
       "      <th>1</th>\n",
       "      <td>10273602499503308B223C1</td>\n",
       "      <td>1209647</td>\n",
       "      <td>2014-02-27 08:28:07.900000000</td>\n",
       "      <td>NaN</td>\n",
       "      <td>36</td>\n",
       "      <td>Current</td>\n",
       "      <td>NaN</td>\n",
       "      <td>0.12016</td>\n",
       "      <td>0.0920</td>\n",
       "      <td>0.0820</td>\n",
       "      <td>...</td>\n",
       "      <td>0.00</td>\n",
       "      <td>0.0</td>\n",
       "      <td>0.0</td>\n",
       "      <td>0.0</td>\n",
       "      <td>0.0</td>\n",
       "      <td>1.0</td>\n",
       "      <td>0</td>\n",
       "      <td>0</td>\n",
       "      <td>0.0</td>\n",
       "      <td>1</td>\n",
       "    </tr>\n",
       "    <tr>\n",
       "      <th>2</th>\n",
       "      <td>0EE9337825851032864889A</td>\n",
       "      <td>81716</td>\n",
       "      <td>2007-01-05 15:00:47.090000000</td>\n",
       "      <td>HR</td>\n",
       "      <td>36</td>\n",
       "      <td>Completed</td>\n",
       "      <td>2009-12-17 00:00:00</td>\n",
       "      <td>0.28269</td>\n",
       "      <td>0.2750</td>\n",
       "      <td>0.2400</td>\n",
       "      <td>...</td>\n",
       "      <td>-24.20</td>\n",
       "      <td>0.0</td>\n",
       "      <td>0.0</td>\n",
       "      <td>0.0</td>\n",
       "      <td>0.0</td>\n",
       "      <td>1.0</td>\n",
       "      <td>0</td>\n",
       "      <td>0</td>\n",
       "      <td>0.0</td>\n",
       "      <td>41</td>\n",
       "    </tr>\n",
       "    <tr>\n",
       "      <th>3</th>\n",
       "      <td>0EF5356002482715299901A</td>\n",
       "      <td>658116</td>\n",
       "      <td>2012-10-22 11:02:35.010000000</td>\n",
       "      <td>NaN</td>\n",
       "      <td>36</td>\n",
       "      <td>Current</td>\n",
       "      <td>NaN</td>\n",
       "      <td>0.12528</td>\n",
       "      <td>0.0974</td>\n",
       "      <td>0.0874</td>\n",
       "      <td>...</td>\n",
       "      <td>-108.01</td>\n",
       "      <td>0.0</td>\n",
       "      <td>0.0</td>\n",
       "      <td>0.0</td>\n",
       "      <td>0.0</td>\n",
       "      <td>1.0</td>\n",
       "      <td>0</td>\n",
       "      <td>0</td>\n",
       "      <td>0.0</td>\n",
       "      <td>158</td>\n",
       "    </tr>\n",
       "    <tr>\n",
       "      <th>4</th>\n",
       "      <td>0F023589499656230C5E3E2</td>\n",
       "      <td>909464</td>\n",
       "      <td>2013-09-14 18:38:39.097000000</td>\n",
       "      <td>NaN</td>\n",
       "      <td>36</td>\n",
       "      <td>Current</td>\n",
       "      <td>NaN</td>\n",
       "      <td>0.24614</td>\n",
       "      <td>0.2085</td>\n",
       "      <td>0.1985</td>\n",
       "      <td>...</td>\n",
       "      <td>-60.27</td>\n",
       "      <td>0.0</td>\n",
       "      <td>0.0</td>\n",
       "      <td>0.0</td>\n",
       "      <td>0.0</td>\n",
       "      <td>1.0</td>\n",
       "      <td>0</td>\n",
       "      <td>0</td>\n",
       "      <td>0.0</td>\n",
       "      <td>20</td>\n",
       "    </tr>\n",
       "  </tbody>\n",
       "</table>\n",
       "<p>5 rows × 81 columns</p>\n",
       "</div>"
      ],
      "text/plain": [
       "                ListingKey  ListingNumber            ListingCreationDate  \\\n",
       "0  1021339766868145413AB3B         193129  2007-08-26 19:09:29.263000000   \n",
       "1  10273602499503308B223C1        1209647  2014-02-27 08:28:07.900000000   \n",
       "2  0EE9337825851032864889A          81716  2007-01-05 15:00:47.090000000   \n",
       "3  0EF5356002482715299901A         658116  2012-10-22 11:02:35.010000000   \n",
       "4  0F023589499656230C5E3E2         909464  2013-09-14 18:38:39.097000000   \n",
       "\n",
       "  CreditGrade  Term LoanStatus           ClosedDate  BorrowerAPR  \\\n",
       "0           C    36  Completed  2009-08-14 00:00:00      0.16516   \n",
       "1         NaN    36    Current                  NaN      0.12016   \n",
       "2          HR    36  Completed  2009-12-17 00:00:00      0.28269   \n",
       "3         NaN    36    Current                  NaN      0.12528   \n",
       "4         NaN    36    Current                  NaN      0.24614   \n",
       "\n",
       "   BorrowerRate  LenderYield  ...  LP_ServiceFees  LP_CollectionFees  \\\n",
       "0        0.1580       0.1380  ...         -133.18                0.0   \n",
       "1        0.0920       0.0820  ...            0.00                0.0   \n",
       "2        0.2750       0.2400  ...          -24.20                0.0   \n",
       "3        0.0974       0.0874  ...         -108.01                0.0   \n",
       "4        0.2085       0.1985  ...          -60.27                0.0   \n",
       "\n",
       "   LP_GrossPrincipalLoss  LP_NetPrincipalLoss LP_NonPrincipalRecoverypayments  \\\n",
       "0                    0.0                  0.0                             0.0   \n",
       "1                    0.0                  0.0                             0.0   \n",
       "2                    0.0                  0.0                             0.0   \n",
       "3                    0.0                  0.0                             0.0   \n",
       "4                    0.0                  0.0                             0.0   \n",
       "\n",
       "   PercentFunded  Recommendations InvestmentFromFriendsCount  \\\n",
       "0            1.0                0                          0   \n",
       "1            1.0                0                          0   \n",
       "2            1.0                0                          0   \n",
       "3            1.0                0                          0   \n",
       "4            1.0                0                          0   \n",
       "\n",
       "  InvestmentFromFriendsAmount Investors  \n",
       "0                         0.0       258  \n",
       "1                         0.0         1  \n",
       "2                         0.0        41  \n",
       "3                         0.0       158  \n",
       "4                         0.0        20  \n",
       "\n",
       "[5 rows x 81 columns]"
      ]
     },
     "execution_count": 27,
     "metadata": {},
     "output_type": "execute_result"
    }
   ],
   "source": [
    "df.head()"
   ]
  },
  {
   "cell_type": "markdown",
   "id": "a59965fb-afc2-400f-a30c-93babb55d320",
   "metadata": {},
   "source": [
    "# DATA PREPROCESSING"
   ]
  },
  {
   "cell_type": "code",
   "execution_count": 28,
   "id": "6acc587a-210c-43b1-85d2-59907ccc131b",
   "metadata": {},
   "outputs": [
    {
     "data": {
      "text/plain": [
       "(113937, 81)"
      ]
     },
     "execution_count": 28,
     "metadata": {},
     "output_type": "execute_result"
    }
   ],
   "source": [
    "df.shape"
   ]
  },
  {
   "cell_type": "code",
   "execution_count": 29,
   "id": "eb890fc2-79a9-48ed-a7b3-bd183ee92a6c",
   "metadata": {},
   "outputs": [
    {
     "name": "stdout",
     "output_type": "stream",
     "text": [
      "<class 'pandas.core.frame.DataFrame'>\n",
      "RangeIndex: 113937 entries, 0 to 113936\n",
      "Data columns (total 81 columns):\n",
      " #   Column                               Non-Null Count   Dtype  \n",
      "---  ------                               --------------   -----  \n",
      " 0   ListingKey                           113937 non-null  object \n",
      " 1   ListingNumber                        113937 non-null  int64  \n",
      " 2   ListingCreationDate                  113937 non-null  object \n",
      " 3   CreditGrade                          28953 non-null   object \n",
      " 4   Term                                 113937 non-null  int64  \n",
      " 5   LoanStatus                           113937 non-null  object \n",
      " 6   ClosedDate                           55089 non-null   object \n",
      " 7   BorrowerAPR                          113912 non-null  float64\n",
      " 8   BorrowerRate                         113937 non-null  float64\n",
      " 9   LenderYield                          113937 non-null  float64\n",
      " 10  EstimatedEffectiveYield              84853 non-null   float64\n",
      " 11  EstimatedLoss                        84853 non-null   float64\n",
      " 12  EstimatedReturn                      84853 non-null   float64\n",
      " 13  ProsperRating (numeric)              84853 non-null   float64\n",
      " 14  ProsperRating (Alpha)                84853 non-null   object \n",
      " 15  ProsperScore                         84853 non-null   float64\n",
      " 16  ListingCategory (numeric)            113937 non-null  int64  \n",
      " 17  BorrowerState                        108422 non-null  object \n",
      " 18  Occupation                           110349 non-null  object \n",
      " 19  EmploymentStatus                     111682 non-null  object \n",
      " 20  EmploymentStatusDuration             106312 non-null  float64\n",
      " 21  IsBorrowerHomeowner                  113937 non-null  bool   \n",
      " 22  CurrentlyInGroup                     113937 non-null  bool   \n",
      " 23  GroupKey                             13341 non-null   object \n",
      " 24  DateCreditPulled                     113937 non-null  object \n",
      " 25  CreditScoreRangeLower                113346 non-null  float64\n",
      " 26  CreditScoreRangeUpper                113346 non-null  float64\n",
      " 27  FirstRecordedCreditLine              113240 non-null  object \n",
      " 28  CurrentCreditLines                   106333 non-null  float64\n",
      " 29  OpenCreditLines                      106333 non-null  float64\n",
      " 30  TotalCreditLinespast7years           113240 non-null  float64\n",
      " 31  OpenRevolvingAccounts                113937 non-null  int64  \n",
      " 32  OpenRevolvingMonthlyPayment          113937 non-null  float64\n",
      " 33  InquiriesLast6Months                 113240 non-null  float64\n",
      " 34  TotalInquiries                       112778 non-null  float64\n",
      " 35  CurrentDelinquencies                 113240 non-null  float64\n",
      " 36  AmountDelinquent                     106315 non-null  float64\n",
      " 37  DelinquenciesLast7Years              112947 non-null  float64\n",
      " 38  PublicRecordsLast10Years             113240 non-null  float64\n",
      " 39  PublicRecordsLast12Months            106333 non-null  float64\n",
      " 40  RevolvingCreditBalance               106333 non-null  float64\n",
      " 41  BankcardUtilization                  106333 non-null  float64\n",
      " 42  AvailableBankcardCredit              106393 non-null  float64\n",
      " 43  TotalTrades                          106393 non-null  float64\n",
      " 44  TradesNeverDelinquent (percentage)   106393 non-null  float64\n",
      " 45  TradesOpenedLast6Months              106393 non-null  float64\n",
      " 46  DebtToIncomeRatio                    105383 non-null  float64\n",
      " 47  IncomeRange                          113937 non-null  object \n",
      " 48  IncomeVerifiable                     113937 non-null  bool   \n",
      " 49  StatedMonthlyIncome                  113937 non-null  float64\n",
      " 50  LoanKey                              113937 non-null  object \n",
      " 51  TotalProsperLoans                    22085 non-null   float64\n",
      " 52  TotalProsperPaymentsBilled           22085 non-null   float64\n",
      " 53  OnTimeProsperPayments                22085 non-null   float64\n",
      " 54  ProsperPaymentsLessThanOneMonthLate  22085 non-null   float64\n",
      " 55  ProsperPaymentsOneMonthPlusLate      22085 non-null   float64\n",
      " 56  ProsperPrincipalBorrowed             22085 non-null   float64\n",
      " 57  ProsperPrincipalOutstanding          22085 non-null   float64\n",
      " 58  ScorexChangeAtTimeOfListing          18928 non-null   float64\n",
      " 59  LoanCurrentDaysDelinquent            113937 non-null  int64  \n",
      " 60  LoanFirstDefaultedCycleNumber        16952 non-null   float64\n",
      " 61  LoanMonthsSinceOrigination           113937 non-null  int64  \n",
      " 62  LoanNumber                           113937 non-null  int64  \n",
      " 63  LoanOriginalAmount                   113937 non-null  int64  \n",
      " 64  LoanOriginationDate                  113937 non-null  object \n",
      " 65  LoanOriginationQuarter               113937 non-null  object \n",
      " 66  MemberKey                            113937 non-null  object \n",
      " 67  MonthlyLoanPayment                   113937 non-null  float64\n",
      " 68  LP_CustomerPayments                  113937 non-null  float64\n",
      " 69  LP_CustomerPrincipalPayments         113937 non-null  float64\n",
      " 70  LP_InterestandFees                   113937 non-null  float64\n",
      " 71  LP_ServiceFees                       113937 non-null  float64\n",
      " 72  LP_CollectionFees                    113937 non-null  float64\n",
      " 73  LP_GrossPrincipalLoss                113937 non-null  float64\n",
      " 74  LP_NetPrincipalLoss                  113937 non-null  float64\n",
      " 75  LP_NonPrincipalRecoverypayments      113937 non-null  float64\n",
      " 76  PercentFunded                        113937 non-null  float64\n",
      " 77  Recommendations                      113937 non-null  int64  \n",
      " 78  InvestmentFromFriendsCount           113937 non-null  int64  \n",
      " 79  InvestmentFromFriendsAmount          113937 non-null  float64\n",
      " 80  Investors                            113937 non-null  int64  \n",
      "dtypes: bool(3), float64(50), int64(11), object(17)\n",
      "memory usage: 68.1+ MB\n"
     ]
    }
   ],
   "source": [
    "df.info()"
   ]
  },
  {
   "cell_type": "markdown",
   "id": "75760831-7001-4bdb-b47b-e31286281279",
   "metadata": {},
   "source": [
    "# Checking For Duplicate Values"
   ]
  },
  {
   "cell_type": "code",
   "execution_count": 30,
   "id": "5444c8ae-f57b-4f8e-8734-05e5176a84ce",
   "metadata": {},
   "outputs": [
    {
     "name": "stdout",
     "output_type": "stream",
     "text": [
      "False    113937\n",
      "Name: count, dtype: int64\n",
      "113937\n"
     ]
    }
   ],
   "source": [
    "#Checking For Duplicates\n",
    "print(df.duplicated(). value_counts())\n",
    "#Drop Duplicates if any\n",
    "df.drop_duplicates(inplace= True)\n",
    "#Print the length of the dataframe\n",
    "print(len(df))"
   ]
  },
  {
   "cell_type": "markdown",
   "id": "02ac98d2-6323-48ef-9a23-00ce0b4d27a9",
   "metadata": {},
   "source": [
    "# Observation: Dataframe does not contain any duplicates"
   ]
  },
  {
   "cell_type": "markdown",
   "id": "3375b384-2b05-452d-b7c7-51d37dc385be",
   "metadata": {},
   "source": [
    "# Checking For Missing Values"
   ]
  },
  {
   "cell_type": "code",
   "execution_count": 31,
   "id": "92198b30-008a-4329-a470-d7993882b358",
   "metadata": {},
   "outputs": [
    {
     "data": {
      "text/plain": [
       "ListingKey                         0\n",
       "ListingNumber                      0\n",
       "ListingCreationDate                0\n",
       "CreditGrade                    84984\n",
       "Term                               0\n",
       "                               ...  \n",
       "PercentFunded                      0\n",
       "Recommendations                    0\n",
       "InvestmentFromFriendsCount         0\n",
       "InvestmentFromFriendsAmount        0\n",
       "Investors                          0\n",
       "Length: 81, dtype: int64"
      ]
     },
     "execution_count": 31,
     "metadata": {},
     "output_type": "execute_result"
    }
   ],
   "source": [
    "#Checking For Missing Value\n",
    "df.isnull().sum()"
   ]
  },
  {
   "cell_type": "markdown",
   "id": "b932d0c4-7d14-4dc8-a074-a9429fa5f00c",
   "metadata": {},
   "source": [
    "### Observation: There are a lot of missing values in this dataset, I will fill them out by replacing NaN with the mean value of the column (for Numeric Columns), the most frequent data (for categorical column) or simply drop the column if they are not important for my analysis\n"
   ]
  },
  {
   "cell_type": "markdown",
   "id": "4bab0150-ef53-4aa0-a267-036714fd3d52",
   "metadata": {},
   "source": [
    "## Addressing Missing Values in Numerical Columns By replacing them with the mean value of the column"
   ]
  },
  {
   "cell_type": "code",
   "execution_count": 33,
   "id": "798a305b-070e-4bc7-a52b-8d71e9a77c67",
   "metadata": {},
   "outputs": [],
   "source": [
    "df.replace(\"?\", np.nan, inplace=True)"
   ]
  },
  {
   "cell_type": "code",
   "execution_count": 34,
   "id": "580daca3-40c5-4921-9499-264ff6503e45",
   "metadata": {},
   "outputs": [],
   "source": [
    "df['ClosedDate'].replace(np.nan, \"Open\", inplace = True)"
   ]
  },
  {
   "cell_type": "code",
   "execution_count": 35,
   "id": "d10b3e55-7ede-4da9-934f-83ea7ec4b96e",
   "metadata": {},
   "outputs": [
    {
     "name": "stdout",
     "output_type": "stream",
     "text": [
      "Average BorrowerAPR: 0.21882765590982514\n"
     ]
    }
   ],
   "source": [
    "\n",
    "avg_BorrowerAPR = df['BorrowerAPR'].astype ('float').mean(axis=0)\n",
    "print(\"Average BorrowerAPR:\", avg_BorrowerAPR)"
   ]
  },
  {
   "cell_type": "code",
   "execution_count": 36,
   "id": "03e4eff3-ebb4-47ca-af34-0b07d16b4db6",
   "metadata": {},
   "outputs": [],
   "source": [
    "df['BorrowerAPR'].replace(np.nan, avg_BorrowerAPR, inplace = True)\n"
   ]
  },
  {
   "cell_type": "code",
   "execution_count": 37,
   "id": "7bc60a12-b9a1-4015-add8-a62b9812c314",
   "metadata": {},
   "outputs": [
    {
     "name": "stdout",
     "output_type": "stream",
     "text": [
      "Average EstimatedEffectiveYield: 0.1686614749036569\n"
     ]
    }
   ],
   "source": [
    "avg_EstimatedEffectiveYield = df['EstimatedEffectiveYield'].astype ('float').mean(axis=0)\n",
    "print(\"Average EstimatedEffectiveYield:\", avg_EstimatedEffectiveYield)"
   ]
  },
  {
   "cell_type": "code",
   "execution_count": 39,
   "id": "033e1963-208d-41f4-a556-a310c7fedf8f",
   "metadata": {},
   "outputs": [],
   "source": [
    "df['EstimatedEffectiveYield'].replace(np.nan, avg_EstimatedEffectiveYield, inplace = True)\n"
   ]
  },
  {
   "cell_type": "code",
   "execution_count": 40,
   "id": "0a066c0d-1ec8-41e0-b025-b20517f87dfb",
   "metadata": {},
   "outputs": [
    {
     "name": "stdout",
     "output_type": "stream",
     "text": [
      "Average EstimatedLoss: 0.08030585836682264\n"
     ]
    }
   ],
   "source": [
    "avg_EstimatedLoss = df['EstimatedLoss'].astype ('float').mean(axis=0)\n",
    "print(\"Average EstimatedLoss:\", avg_EstimatedLoss)"
   ]
  },
  {
   "cell_type": "code",
   "execution_count": 41,
   "id": "029ddccc-883a-4910-b7bb-2e1df700f91c",
   "metadata": {},
   "outputs": [],
   "source": [
    "df['EstimatedLoss'].replace(np.nan, avg_EstimatedLoss, inplace = True)"
   ]
  },
  {
   "cell_type": "code",
   "execution_count": 42,
   "id": "16e999da-588c-4c4c-9af6-56dfc64d51aa",
   "metadata": {},
   "outputs": [
    {
     "name": "stdout",
     "output_type": "stream",
     "text": [
      "Average EstimatedReturn: 0.09606829611209974\n"
     ]
    }
   ],
   "source": [
    "avg_EstimatedReturn = df['EstimatedReturn'].astype ('float').mean(axis=0)\n",
    "print(\"Average EstimatedReturn:\", avg_EstimatedReturn)"
   ]
  },
  {
   "cell_type": "code",
   "execution_count": 43,
   "id": "cee6d557-f688-4f5d-ae0f-2237427c50b5",
   "metadata": {},
   "outputs": [],
   "source": [
    "df['EstimatedReturn'].replace(np.nan, avg_EstimatedReturn, inplace = True)"
   ]
  },
  {
   "cell_type": "code",
   "execution_count": 44,
   "id": "75fc49a5-ecce-440d-8064-b5fd114cd982",
   "metadata": {},
   "outputs": [
    {
     "name": "stdout",
     "output_type": "stream",
     "text": [
      "Average ProsperRating (numeric): 4.07224258423391\n"
     ]
    }
   ],
   "source": [
    "avg_ProsperRating_numeric = df['ProsperRating (numeric)'].astype ('float').mean(axis=0)\n",
    "print(\"Average ProsperRating (numeric):\", avg_ProsperRating_numeric)"
   ]
  },
  {
   "cell_type": "code",
   "execution_count": null,
   "id": "ef397832-b5fc-48e5-aa34-c5ec3bd63094",
   "metadata": {},
   "outputs": [],
   "source": []
  },
  {
   "cell_type": "markdown",
   "id": "d7cdfda7-e8c6-4065-864c-377ff4550a8a",
   "metadata": {},
   "source": [
    "### Addressing Missing Values in Categorical Columns By replacing them with the most frquent value in the column"
   ]
  },
  {
   "cell_type": "code",
   "execution_count": 50,
   "id": "cfb4fcb1-3d3a-44b2-b724-a17d85a7c964",
   "metadata": {},
   "outputs": [
    {
     "data": {
      "text/plain": [
       "ProsperRating (Alpha)\n",
       "C     18345\n",
       "B     15581\n",
       "A     14551\n",
       "D     14274\n",
       "E      9795\n",
       "HR     6935\n",
       "AA     5372\n",
       "Name: count, dtype: int64"
      ]
     },
     "execution_count": 50,
     "metadata": {},
     "output_type": "execute_result"
    }
   ],
   "source": [
    "df['ProsperRating (Alpha)'].value_counts()"
   ]
  },
  {
   "cell_type": "code",
   "execution_count": 51,
   "id": "9b8e9b90-a455-4cf7-b3f5-d17638d0a857",
   "metadata": {},
   "outputs": [],
   "source": [
    "df['ProsperRating (Alpha)'].replace(np.nan, 'C', inplace = True)"
   ]
  },
  {
   "cell_type": "code",
   "execution_count": 52,
   "id": "26945c26-65ce-4e90-a456-60b70a593655",
   "metadata": {},
   "outputs": [
    {
     "data": {
      "text/plain": [
       "CreditGrade\n",
       "C     5649\n",
       "D     5153\n",
       "B     4389\n",
       "AA    3509\n",
       "HR    3508\n",
       "A     3315\n",
       "E     3289\n",
       "NC     141\n",
       "Name: count, dtype: int64"
      ]
     },
     "execution_count": 52,
     "metadata": {},
     "output_type": "execute_result"
    }
   ],
   "source": [
    "df['CreditGrade'].value_counts()"
   ]
  },
  {
   "cell_type": "code",
   "execution_count": 53,
   "id": "178bbaf5-de11-4591-9b48-6e9e6f313e96",
   "metadata": {},
   "outputs": [],
   "source": [
    "df['CreditGrade'].replace(np.nan, 'C', inplace = True)"
   ]
  },
  {
   "cell_type": "code",
   "execution_count": 94,
   "id": "27cdecc2-c07a-4e22-b24c-585dc70d9b62",
   "metadata": {},
   "outputs": [
    {
     "name": "stdout",
     "output_type": "stream",
     "text": [
      "Requirement already satisfied: pandas in /opt/anaconda3/lib/python3.11/site-packages (2.1.4)\n",
      "Requirement already satisfied: numpy in /opt/anaconda3/lib/python3.11/site-packages (1.26.4)\n",
      "Requirement already satisfied: python-dateutil>=2.8.2 in /opt/anaconda3/lib/python3.11/site-packages (from pandas) (2.8.2)\n",
      "Requirement already satisfied: pytz>=2020.1 in /opt/anaconda3/lib/python3.11/site-packages (from pandas) (2023.3.post1)\n",
      "Requirement already satisfied: tzdata>=2022.1 in /opt/anaconda3/lib/python3.11/site-packages (from pandas) (2023.3)\n",
      "Requirement already satisfied: six>=1.5 in /opt/anaconda3/lib/python3.11/site-packages (from python-dateutil>=2.8.2->pandas) (1.16.0)\n"
     ]
    }
   ],
   "source": [
    "!pip install pandas numpy\n"
   ]
  },
  {
   "cell_type": "code",
   "execution_count": 95,
   "id": "2e5a7e6f-c43b-4c69-937c-fb3ed01762c4",
   "metadata": {},
   "outputs": [],
   "source": [
    "import numpy as np\n",
    "import pandas as pd"
   ]
  },
  {
   "cell_type": "code",
   "execution_count": 96,
   "id": "876f001d-30f3-4e74-98e8-7682ba568e95",
   "metadata": {},
   "outputs": [],
   "source": [
    "raw_data = pd.read_csv('prosperLoanData.csv')\n"
   ]
  },
  {
   "cell_type": "code",
   "execution_count": 97,
   "id": "15be502a-ff45-458a-a44e-c9e262225f6f",
   "metadata": {},
   "outputs": [
    {
     "data": {
      "text/html": [
       "<div>\n",
       "<style scoped>\n",
       "    .dataframe tbody tr th:only-of-type {\n",
       "        vertical-align: middle;\n",
       "    }\n",
       "\n",
       "    .dataframe tbody tr th {\n",
       "        vertical-align: top;\n",
       "    }\n",
       "\n",
       "    .dataframe thead th {\n",
       "        text-align: right;\n",
       "    }\n",
       "</style>\n",
       "<table border=\"1\" class=\"dataframe\">\n",
       "  <thead>\n",
       "    <tr style=\"text-align: right;\">\n",
       "      <th></th>\n",
       "      <th>ListingKey</th>\n",
       "      <th>ListingNumber</th>\n",
       "      <th>ListingCreationDate</th>\n",
       "      <th>CreditGrade</th>\n",
       "      <th>Term</th>\n",
       "      <th>LoanStatus</th>\n",
       "      <th>ClosedDate</th>\n",
       "      <th>BorrowerAPR</th>\n",
       "      <th>BorrowerRate</th>\n",
       "      <th>LenderYield</th>\n",
       "      <th>...</th>\n",
       "      <th>LP_ServiceFees</th>\n",
       "      <th>LP_CollectionFees</th>\n",
       "      <th>LP_GrossPrincipalLoss</th>\n",
       "      <th>LP_NetPrincipalLoss</th>\n",
       "      <th>LP_NonPrincipalRecoverypayments</th>\n",
       "      <th>PercentFunded</th>\n",
       "      <th>Recommendations</th>\n",
       "      <th>InvestmentFromFriendsCount</th>\n",
       "      <th>InvestmentFromFriendsAmount</th>\n",
       "      <th>Investors</th>\n",
       "    </tr>\n",
       "  </thead>\n",
       "  <tbody>\n",
       "    <tr>\n",
       "      <th>0</th>\n",
       "      <td>1021339766868145413AB3B</td>\n",
       "      <td>193129</td>\n",
       "      <td>2007-08-26 19:09:29.263000000</td>\n",
       "      <td>C</td>\n",
       "      <td>36</td>\n",
       "      <td>Completed</td>\n",
       "      <td>2009-08-14 00:00:00</td>\n",
       "      <td>0.16516</td>\n",
       "      <td>0.1580</td>\n",
       "      <td>0.1380</td>\n",
       "      <td>...</td>\n",
       "      <td>-133.18</td>\n",
       "      <td>0.0</td>\n",
       "      <td>0.0</td>\n",
       "      <td>0.0</td>\n",
       "      <td>0.0</td>\n",
       "      <td>1.0</td>\n",
       "      <td>0</td>\n",
       "      <td>0</td>\n",
       "      <td>0.0</td>\n",
       "      <td>258</td>\n",
       "    </tr>\n",
       "    <tr>\n",
       "      <th>1</th>\n",
       "      <td>10273602499503308B223C1</td>\n",
       "      <td>1209647</td>\n",
       "      <td>2014-02-27 08:28:07.900000000</td>\n",
       "      <td>NaN</td>\n",
       "      <td>36</td>\n",
       "      <td>Current</td>\n",
       "      <td>NaN</td>\n",
       "      <td>0.12016</td>\n",
       "      <td>0.0920</td>\n",
       "      <td>0.0820</td>\n",
       "      <td>...</td>\n",
       "      <td>0.00</td>\n",
       "      <td>0.0</td>\n",
       "      <td>0.0</td>\n",
       "      <td>0.0</td>\n",
       "      <td>0.0</td>\n",
       "      <td>1.0</td>\n",
       "      <td>0</td>\n",
       "      <td>0</td>\n",
       "      <td>0.0</td>\n",
       "      <td>1</td>\n",
       "    </tr>\n",
       "    <tr>\n",
       "      <th>2</th>\n",
       "      <td>0EE9337825851032864889A</td>\n",
       "      <td>81716</td>\n",
       "      <td>2007-01-05 15:00:47.090000000</td>\n",
       "      <td>HR</td>\n",
       "      <td>36</td>\n",
       "      <td>Completed</td>\n",
       "      <td>2009-12-17 00:00:00</td>\n",
       "      <td>0.28269</td>\n",
       "      <td>0.2750</td>\n",
       "      <td>0.2400</td>\n",
       "      <td>...</td>\n",
       "      <td>-24.20</td>\n",
       "      <td>0.0</td>\n",
       "      <td>0.0</td>\n",
       "      <td>0.0</td>\n",
       "      <td>0.0</td>\n",
       "      <td>1.0</td>\n",
       "      <td>0</td>\n",
       "      <td>0</td>\n",
       "      <td>0.0</td>\n",
       "      <td>41</td>\n",
       "    </tr>\n",
       "    <tr>\n",
       "      <th>3</th>\n",
       "      <td>0EF5356002482715299901A</td>\n",
       "      <td>658116</td>\n",
       "      <td>2012-10-22 11:02:35.010000000</td>\n",
       "      <td>NaN</td>\n",
       "      <td>36</td>\n",
       "      <td>Current</td>\n",
       "      <td>NaN</td>\n",
       "      <td>0.12528</td>\n",
       "      <td>0.0974</td>\n",
       "      <td>0.0874</td>\n",
       "      <td>...</td>\n",
       "      <td>-108.01</td>\n",
       "      <td>0.0</td>\n",
       "      <td>0.0</td>\n",
       "      <td>0.0</td>\n",
       "      <td>0.0</td>\n",
       "      <td>1.0</td>\n",
       "      <td>0</td>\n",
       "      <td>0</td>\n",
       "      <td>0.0</td>\n",
       "      <td>158</td>\n",
       "    </tr>\n",
       "    <tr>\n",
       "      <th>4</th>\n",
       "      <td>0F023589499656230C5E3E2</td>\n",
       "      <td>909464</td>\n",
       "      <td>2013-09-14 18:38:39.097000000</td>\n",
       "      <td>NaN</td>\n",
       "      <td>36</td>\n",
       "      <td>Current</td>\n",
       "      <td>NaN</td>\n",
       "      <td>0.24614</td>\n",
       "      <td>0.2085</td>\n",
       "      <td>0.1985</td>\n",
       "      <td>...</td>\n",
       "      <td>-60.27</td>\n",
       "      <td>0.0</td>\n",
       "      <td>0.0</td>\n",
       "      <td>0.0</td>\n",
       "      <td>0.0</td>\n",
       "      <td>1.0</td>\n",
       "      <td>0</td>\n",
       "      <td>0</td>\n",
       "      <td>0.0</td>\n",
       "      <td>20</td>\n",
       "    </tr>\n",
       "  </tbody>\n",
       "</table>\n",
       "<p>5 rows × 81 columns</p>\n",
       "</div>"
      ],
      "text/plain": [
       "                ListingKey  ListingNumber            ListingCreationDate  \\\n",
       "0  1021339766868145413AB3B         193129  2007-08-26 19:09:29.263000000   \n",
       "1  10273602499503308B223C1        1209647  2014-02-27 08:28:07.900000000   \n",
       "2  0EE9337825851032864889A          81716  2007-01-05 15:00:47.090000000   \n",
       "3  0EF5356002482715299901A         658116  2012-10-22 11:02:35.010000000   \n",
       "4  0F023589499656230C5E3E2         909464  2013-09-14 18:38:39.097000000   \n",
       "\n",
       "  CreditGrade  Term LoanStatus           ClosedDate  BorrowerAPR  \\\n",
       "0           C    36  Completed  2009-08-14 00:00:00      0.16516   \n",
       "1         NaN    36    Current                  NaN      0.12016   \n",
       "2          HR    36  Completed  2009-12-17 00:00:00      0.28269   \n",
       "3         NaN    36    Current                  NaN      0.12528   \n",
       "4         NaN    36    Current                  NaN      0.24614   \n",
       "\n",
       "   BorrowerRate  LenderYield  ...  LP_ServiceFees  LP_CollectionFees  \\\n",
       "0        0.1580       0.1380  ...         -133.18                0.0   \n",
       "1        0.0920       0.0820  ...            0.00                0.0   \n",
       "2        0.2750       0.2400  ...          -24.20                0.0   \n",
       "3        0.0974       0.0874  ...         -108.01                0.0   \n",
       "4        0.2085       0.1985  ...          -60.27                0.0   \n",
       "\n",
       "   LP_GrossPrincipalLoss  LP_NetPrincipalLoss LP_NonPrincipalRecoverypayments  \\\n",
       "0                    0.0                  0.0                             0.0   \n",
       "1                    0.0                  0.0                             0.0   \n",
       "2                    0.0                  0.0                             0.0   \n",
       "3                    0.0                  0.0                             0.0   \n",
       "4                    0.0                  0.0                             0.0   \n",
       "\n",
       "   PercentFunded  Recommendations InvestmentFromFriendsCount  \\\n",
       "0            1.0                0                          0   \n",
       "1            1.0                0                          0   \n",
       "2            1.0                0                          0   \n",
       "3            1.0                0                          0   \n",
       "4            1.0                0                          0   \n",
       "\n",
       "  InvestmentFromFriendsAmount Investors  \n",
       "0                         0.0       258  \n",
       "1                         0.0         1  \n",
       "2                         0.0        41  \n",
       "3                         0.0       158  \n",
       "4                         0.0        20  \n",
       "\n",
       "[5 rows x 81 columns]"
      ]
     },
     "execution_count": 97,
     "metadata": {},
     "output_type": "execute_result"
    }
   ],
   "source": [
    "raw_data.head()"
   ]
  },
  {
   "cell_type": "code",
   "execution_count": 98,
   "id": "da0bae3e-e37d-4b96-a410-5b24f7a6d871",
   "metadata": {},
   "outputs": [
    {
     "name": "stdout",
     "output_type": "stream",
     "text": [
      "<class 'pandas.core.frame.DataFrame'>\n",
      "RangeIndex: 113937 entries, 0 to 113936\n",
      "Data columns (total 81 columns):\n",
      " #   Column                               Non-Null Count   Dtype  \n",
      "---  ------                               --------------   -----  \n",
      " 0   ListingKey                           113937 non-null  object \n",
      " 1   ListingNumber                        113937 non-null  int64  \n",
      " 2   ListingCreationDate                  113937 non-null  object \n",
      " 3   CreditGrade                          28953 non-null   object \n",
      " 4   Term                                 113937 non-null  int64  \n",
      " 5   LoanStatus                           113937 non-null  object \n",
      " 6   ClosedDate                           55089 non-null   object \n",
      " 7   BorrowerAPR                          113912 non-null  float64\n",
      " 8   BorrowerRate                         113937 non-null  float64\n",
      " 9   LenderYield                          113937 non-null  float64\n",
      " 10  EstimatedEffectiveYield              84853 non-null   float64\n",
      " 11  EstimatedLoss                        84853 non-null   float64\n",
      " 12  EstimatedReturn                      84853 non-null   float64\n",
      " 13  ProsperRating (numeric)              84853 non-null   float64\n",
      " 14  ProsperRating (Alpha)                84853 non-null   object \n",
      " 15  ProsperScore                         84853 non-null   float64\n",
      " 16  ListingCategory (numeric)            113937 non-null  int64  \n",
      " 17  BorrowerState                        108422 non-null  object \n",
      " 18  Occupation                           110349 non-null  object \n",
      " 19  EmploymentStatus                     111682 non-null  object \n",
      " 20  EmploymentStatusDuration             106312 non-null  float64\n",
      " 21  IsBorrowerHomeowner                  113937 non-null  bool   \n",
      " 22  CurrentlyInGroup                     113937 non-null  bool   \n",
      " 23  GroupKey                             13341 non-null   object \n",
      " 24  DateCreditPulled                     113937 non-null  object \n",
      " 25  CreditScoreRangeLower                113346 non-null  float64\n",
      " 26  CreditScoreRangeUpper                113346 non-null  float64\n",
      " 27  FirstRecordedCreditLine              113240 non-null  object \n",
      " 28  CurrentCreditLines                   106333 non-null  float64\n",
      " 29  OpenCreditLines                      106333 non-null  float64\n",
      " 30  TotalCreditLinespast7years           113240 non-null  float64\n",
      " 31  OpenRevolvingAccounts                113937 non-null  int64  \n",
      " 32  OpenRevolvingMonthlyPayment          113937 non-null  float64\n",
      " 33  InquiriesLast6Months                 113240 non-null  float64\n",
      " 34  TotalInquiries                       112778 non-null  float64\n",
      " 35  CurrentDelinquencies                 113240 non-null  float64\n",
      " 36  AmountDelinquent                     106315 non-null  float64\n",
      " 37  DelinquenciesLast7Years              112947 non-null  float64\n",
      " 38  PublicRecordsLast10Years             113240 non-null  float64\n",
      " 39  PublicRecordsLast12Months            106333 non-null  float64\n",
      " 40  RevolvingCreditBalance               106333 non-null  float64\n",
      " 41  BankcardUtilization                  106333 non-null  float64\n",
      " 42  AvailableBankcardCredit              106393 non-null  float64\n",
      " 43  TotalTrades                          106393 non-null  float64\n",
      " 44  TradesNeverDelinquent (percentage)   106393 non-null  float64\n",
      " 45  TradesOpenedLast6Months              106393 non-null  float64\n",
      " 46  DebtToIncomeRatio                    105383 non-null  float64\n",
      " 47  IncomeRange                          113937 non-null  object \n",
      " 48  IncomeVerifiable                     113937 non-null  bool   \n",
      " 49  StatedMonthlyIncome                  113937 non-null  float64\n",
      " 50  LoanKey                              113937 non-null  object \n",
      " 51  TotalProsperLoans                    22085 non-null   float64\n",
      " 52  TotalProsperPaymentsBilled           22085 non-null   float64\n",
      " 53  OnTimeProsperPayments                22085 non-null   float64\n",
      " 54  ProsperPaymentsLessThanOneMonthLate  22085 non-null   float64\n",
      " 55  ProsperPaymentsOneMonthPlusLate      22085 non-null   float64\n",
      " 56  ProsperPrincipalBorrowed             22085 non-null   float64\n",
      " 57  ProsperPrincipalOutstanding          22085 non-null   float64\n",
      " 58  ScorexChangeAtTimeOfListing          18928 non-null   float64\n",
      " 59  LoanCurrentDaysDelinquent            113937 non-null  int64  \n",
      " 60  LoanFirstDefaultedCycleNumber        16952 non-null   float64\n",
      " 61  LoanMonthsSinceOrigination           113937 non-null  int64  \n",
      " 62  LoanNumber                           113937 non-null  int64  \n",
      " 63  LoanOriginalAmount                   113937 non-null  int64  \n",
      " 64  LoanOriginationDate                  113937 non-null  object \n",
      " 65  LoanOriginationQuarter               113937 non-null  object \n",
      " 66  MemberKey                            113937 non-null  object \n",
      " 67  MonthlyLoanPayment                   113937 non-null  float64\n",
      " 68  LP_CustomerPayments                  113937 non-null  float64\n",
      " 69  LP_CustomerPrincipalPayments         113937 non-null  float64\n",
      " 70  LP_InterestandFees                   113937 non-null  float64\n",
      " 71  LP_ServiceFees                       113937 non-null  float64\n",
      " 72  LP_CollectionFees                    113937 non-null  float64\n",
      " 73  LP_GrossPrincipalLoss                113937 non-null  float64\n",
      " 74  LP_NetPrincipalLoss                  113937 non-null  float64\n",
      " 75  LP_NonPrincipalRecoverypayments      113937 non-null  float64\n",
      " 76  PercentFunded                        113937 non-null  float64\n",
      " 77  Recommendations                      113937 non-null  int64  \n",
      " 78  InvestmentFromFriendsCount           113937 non-null  int64  \n",
      " 79  InvestmentFromFriendsAmount          113937 non-null  float64\n",
      " 80  Investors                            113937 non-null  int64  \n",
      "dtypes: bool(3), float64(50), int64(11), object(17)\n",
      "memory usage: 68.1+ MB\n"
     ]
    }
   ],
   "source": [
    "raw_data.info(verbose=True)\n"
   ]
  },
  {
   "cell_type": "markdown",
   "id": "ab53d421-1818-4007-9398-1a4120fb2764",
   "metadata": {},
   "source": [
    "# DATA CLEANING"
   ]
  },
  {
   "cell_type": "code",
   "execution_count": 99,
   "id": "9d475759-6d45-452e-9e7d-a5e9a1b960ac",
   "metadata": {},
   "outputs": [],
   "source": [
    "raw_data.drop(['ListingKey', 'ListingNumber', 'LoanKey', 'LoanNumber', 'MemberKey'], axis=1, inplace=True, errors='ignore')\n"
   ]
  },
  {
   "cell_type": "code",
   "execution_count": 100,
   "id": "31c93402-3c8f-4fb4-b055-3f472ae34280",
   "metadata": {},
   "outputs": [],
   "source": [
    "raw_data.drop(['ListingCreationDate', 'ListingCategory (numeric)', 'ClosedDate', 'LoanOriginationDate', 'LoanOriginationQuarter', 'ScorexChangeAtTimeOfListing'], axis=1, inplace=True, errors='ignore')\n"
   ]
  },
  {
   "cell_type": "code",
   "execution_count": 101,
   "id": "bbded6d3-0d9f-43cb-9439-27e732351a24",
   "metadata": {},
   "outputs": [],
   "source": [
    "raw_data.drop(['DateCreditPulled', 'FirstRecordedCreditLine', 'TotalCreditLinespast7years', 'OpenRevolvingAccounts', 'OpenRevolvingMonthlyPayment', 'InquiriesLast6Months', 'TotalInquiries', 'DelinquenciesLast7Years', 'PublicRecordsLast10Years', 'PublicRecordsLast12Months', 'RevolvingCreditBalance', 'BankcardUtilization', 'AvailableBankcardCredit', 'TotalTrades', 'TradesNeverDelinquent (percentage)', 'TradesOpenedLast6Months'], axis=1, inplace=True, errors='ignore')\n"
   ]
  },
  {
   "cell_type": "code",
   "execution_count": 102,
   "id": "c3f4b78e-2ffb-4fed-b45e-4f7c48204920",
   "metadata": {},
   "outputs": [],
   "source": [
    "raw_data.drop(['LP_CustomerPayments', 'LP_CustomerPrincipalPayments', 'LP_InterestandFees', 'LP_ServiceFees', 'LP_CollectionFees', 'LP_GrossPrincipalLoss', 'LP_NetPrincipalLoss', 'LP_NonPrincipalRecoverypayments'], axis=1, inplace=True, errors='ignore')\n"
   ]
  },
  {
   "cell_type": "code",
   "execution_count": 103,
   "id": "c4d0d269-0429-44cf-b9c9-97b7300c0a71",
   "metadata": {},
   "outputs": [],
   "source": [
    "raw_data.drop(['Recommendations', 'InvestmentFromFriendsCount', 'InvestmentFromFriendsAmount', 'Investors'], axis=1, inplace=True, errors='ignore')\n"
   ]
  },
  {
   "cell_type": "code",
   "execution_count": 104,
   "id": "23ac3ba3-13a5-418e-b51b-a20155a56ec3",
   "metadata": {},
   "outputs": [],
   "source": [
    "raw_data.drop(['GroupKey', 'CurrentlyInGroup'], axis=1, inplace=True, errors='ignore')\n"
   ]
  },
  {
   "cell_type": "code",
   "execution_count": 105,
   "id": "fdd1fcb1-9efc-4501-8959-0bad069a9e07",
   "metadata": {},
   "outputs": [],
   "source": [
    "raw_data['CreditGrade'] = raw_data['CreditGrade'].fillna('N/A') #Setting nan to N/A for cust. without a credit grade\n"
   ]
  },
  {
   "cell_type": "code",
   "execution_count": 106,
   "id": "b60d9e0d-9c9c-41f1-8b47-29cfbe75eb95",
   "metadata": {},
   "outputs": [],
   "source": [
    "raw_data['TotalProsperLoans'] = raw_data['TotalProsperLoans'].fillna(0)\n",
    "raw_data['TotalProsperPaymentsBilled'] = raw_data['TotalProsperPaymentsBilled'].fillna(0)\n",
    "raw_data['OnTimeProsperPayments'] = raw_data['OnTimeProsperPayments'].fillna(0)\n",
    "raw_data['ProsperPaymentsLessThanOneMonthLate'] = raw_data['ProsperPaymentsLessThanOneMonthLate'].fillna(0)\n",
    "raw_data['ProsperPaymentsOneMonthPlusLate'] = raw_data['ProsperPaymentsOneMonthPlusLate'].fillna(0)\n",
    "raw_data['ProsperPrincipalBorrowed'] = raw_data['ProsperPrincipalBorrowed'].fillna(0)\n",
    "raw_data['ProsperPrincipalOutstanding'] = raw_data['ProsperPrincipalOutstanding'].fillna(0)\n",
    "raw_data['LoanFirstDefaultedCycleNumber'] = raw_data['LoanFirstDefaultedCycleNumber'].fillna(0)\n"
   ]
  },
  {
   "cell_type": "code",
   "execution_count": 107,
   "id": "9a4d789a-590d-47fc-b08c-328dafe27ec8",
   "metadata": {},
   "outputs": [],
   "source": [
    "raw_data.dropna(subset=raw_data.columns, inplace=True)\n",
    "raw_data.reset_index(inplace=True,  drop=True)\n",
    "     "
   ]
  },
  {
   "cell_type": "code",
   "execution_count": 108,
   "id": "c6b099a1-3c11-4372-875f-8150669ec1ab",
   "metadata": {},
   "outputs": [
    {
     "name": "stdout",
     "output_type": "stream",
     "text": [
      "<class 'pandas.core.frame.DataFrame'>\n",
      "RangeIndex: 76216 entries, 0 to 76215\n",
      "Data columns (total 40 columns):\n",
      " #   Column                               Non-Null Count  Dtype  \n",
      "---  ------                               --------------  -----  \n",
      " 0   CreditGrade                          76216 non-null  object \n",
      " 1   Term                                 76216 non-null  int64  \n",
      " 2   LoanStatus                           76216 non-null  object \n",
      " 3   BorrowerAPR                          76216 non-null  float64\n",
      " 4   BorrowerRate                         76216 non-null  float64\n",
      " 5   LenderYield                          76216 non-null  float64\n",
      " 6   EstimatedEffectiveYield              76216 non-null  float64\n",
      " 7   EstimatedLoss                        76216 non-null  float64\n",
      " 8   EstimatedReturn                      76216 non-null  float64\n",
      " 9   ProsperRating (numeric)              76216 non-null  float64\n",
      " 10  ProsperRating (Alpha)                76216 non-null  object \n",
      " 11  ProsperScore                         76216 non-null  float64\n",
      " 12  BorrowerState                        76216 non-null  object \n",
      " 13  Occupation                           76216 non-null  object \n",
      " 14  EmploymentStatus                     76216 non-null  object \n",
      " 15  EmploymentStatusDuration             76216 non-null  float64\n",
      " 16  IsBorrowerHomeowner                  76216 non-null  bool   \n",
      " 17  CreditScoreRangeLower                76216 non-null  float64\n",
      " 18  CreditScoreRangeUpper                76216 non-null  float64\n",
      " 19  CurrentCreditLines                   76216 non-null  float64\n",
      " 20  OpenCreditLines                      76216 non-null  float64\n",
      " 21  CurrentDelinquencies                 76216 non-null  float64\n",
      " 22  AmountDelinquent                     76216 non-null  float64\n",
      " 23  DebtToIncomeRatio                    76216 non-null  float64\n",
      " 24  IncomeRange                          76216 non-null  object \n",
      " 25  IncomeVerifiable                     76216 non-null  bool   \n",
      " 26  StatedMonthlyIncome                  76216 non-null  float64\n",
      " 27  TotalProsperLoans                    76216 non-null  float64\n",
      " 28  TotalProsperPaymentsBilled           76216 non-null  float64\n",
      " 29  OnTimeProsperPayments                76216 non-null  float64\n",
      " 30  ProsperPaymentsLessThanOneMonthLate  76216 non-null  float64\n",
      " 31  ProsperPaymentsOneMonthPlusLate      76216 non-null  float64\n",
      " 32  ProsperPrincipalBorrowed             76216 non-null  float64\n",
      " 33  ProsperPrincipalOutstanding          76216 non-null  float64\n",
      " 34  LoanCurrentDaysDelinquent            76216 non-null  int64  \n",
      " 35  LoanFirstDefaultedCycleNumber        76216 non-null  float64\n",
      " 36  LoanMonthsSinceOrigination           76216 non-null  int64  \n",
      " 37  LoanOriginalAmount                   76216 non-null  int64  \n",
      " 38  MonthlyLoanPayment                   76216 non-null  float64\n",
      " 39  PercentFunded                        76216 non-null  float64\n",
      "dtypes: bool(2), float64(27), int64(4), object(7)\n",
      "memory usage: 22.2+ MB\n"
     ]
    }
   ],
   "source": [
    "raw_data.info(verbose=True)\n"
   ]
  },
  {
   "cell_type": "markdown",
   "id": "60d0aa87-240f-4cfe-8f64-06443e275f06",
   "metadata": {},
   "source": [
    "# DATA ENCODING"
   ]
  },
  {
   "cell_type": "code",
   "execution_count": 109,
   "id": "d6d17301-269e-40a0-8928-af10ac973601",
   "metadata": {},
   "outputs": [
    {
     "data": {
      "text/html": [
       "<div>\n",
       "<style scoped>\n",
       "    .dataframe tbody tr th:only-of-type {\n",
       "        vertical-align: middle;\n",
       "    }\n",
       "\n",
       "    .dataframe tbody tr th {\n",
       "        vertical-align: top;\n",
       "    }\n",
       "\n",
       "    .dataframe thead th {\n",
       "        text-align: right;\n",
       "    }\n",
       "</style>\n",
       "<table border=\"1\" class=\"dataframe\">\n",
       "  <thead>\n",
       "    <tr style=\"text-align: right;\">\n",
       "      <th></th>\n",
       "      <th>CreditGrade</th>\n",
       "      <th>ProsperRating (Alpha)</th>\n",
       "      <th>BorrowerState</th>\n",
       "      <th>Occupation</th>\n",
       "      <th>EmploymentStatus</th>\n",
       "      <th>IncomeRange</th>\n",
       "    </tr>\n",
       "  </thead>\n",
       "  <tbody>\n",
       "    <tr>\n",
       "      <th>0</th>\n",
       "      <td>N/A</td>\n",
       "      <td>A</td>\n",
       "      <td>CO</td>\n",
       "      <td>Professional</td>\n",
       "      <td>Employed</td>\n",
       "      <td>$50,000-74,999</td>\n",
       "    </tr>\n",
       "    <tr>\n",
       "      <th>1</th>\n",
       "      <td>N/A</td>\n",
       "      <td>A</td>\n",
       "      <td>GA</td>\n",
       "      <td>Skilled Labor</td>\n",
       "      <td>Employed</td>\n",
       "      <td>$25,000-49,999</td>\n",
       "    </tr>\n",
       "    <tr>\n",
       "      <th>2</th>\n",
       "      <td>N/A</td>\n",
       "      <td>D</td>\n",
       "      <td>MN</td>\n",
       "      <td>Executive</td>\n",
       "      <td>Employed</td>\n",
       "      <td>$100,000+</td>\n",
       "    </tr>\n",
       "    <tr>\n",
       "      <th>3</th>\n",
       "      <td>N/A</td>\n",
       "      <td>B</td>\n",
       "      <td>NM</td>\n",
       "      <td>Professional</td>\n",
       "      <td>Employed</td>\n",
       "      <td>$100,000+</td>\n",
       "    </tr>\n",
       "    <tr>\n",
       "      <th>4</th>\n",
       "      <td>N/A</td>\n",
       "      <td>E</td>\n",
       "      <td>KS</td>\n",
       "      <td>Sales - Retail</td>\n",
       "      <td>Employed</td>\n",
       "      <td>$25,000-49,999</td>\n",
       "    </tr>\n",
       "  </tbody>\n",
       "</table>\n",
       "</div>"
      ],
      "text/plain": [
       "  CreditGrade ProsperRating (Alpha) BorrowerState      Occupation  \\\n",
       "0         N/A                     A            CO    Professional   \n",
       "1         N/A                     A            GA   Skilled Labor   \n",
       "2         N/A                     D            MN       Executive   \n",
       "3         N/A                     B            NM    Professional   \n",
       "4         N/A                     E            KS  Sales - Retail   \n",
       "\n",
       "  EmploymentStatus     IncomeRange  \n",
       "0         Employed  $50,000-74,999  \n",
       "1         Employed  $25,000-49,999  \n",
       "2         Employed       $100,000+  \n",
       "3         Employed       $100,000+  \n",
       "4         Employed  $25,000-49,999  "
      ]
     },
     "execution_count": 109,
     "metadata": {},
     "output_type": "execute_result"
    }
   ],
   "source": [
    "raw_data[['CreditGrade', 'ProsperRating (Alpha)', 'BorrowerState', 'Occupation', 'EmploymentStatus', 'IncomeRange']].head()\n"
   ]
  },
  {
   "cell_type": "code",
   "execution_count": 110,
   "id": "a4f7722a-eed3-472a-a628-a24a453873c4",
   "metadata": {},
   "outputs": [],
   "source": [
    "raw_data = pd.get_dummies(raw_data, columns = ['CreditGrade', 'ProsperRating (Alpha)', 'BorrowerState', 'Occupation', 'EmploymentStatus', 'IncomeRange'])\n"
   ]
  },
  {
   "cell_type": "markdown",
   "id": "301bda05-45f5-4178-8265-8031158e9ca5",
   "metadata": {},
   "source": [
    "# DATA LABELLING"
   ]
  },
  {
   "cell_type": "code",
   "execution_count": 111,
   "id": "dacdb8c3-1800-4f39-b1bc-400fb80c5725",
   "metadata": {},
   "outputs": [
    {
     "data": {
      "text/plain": [
       "array(['Current', 'Past Due (1-15 days)', 'Defaulted', 'Completed',\n",
       "       'Chargedoff', 'Past Due (16-30 days)', 'Past Due (61-90 days)',\n",
       "       'Past Due (31-60 days)', 'Past Due (91-120 days)',\n",
       "       'FinalPaymentInProgress', 'Past Due (>120 days)'], dtype=object)"
      ]
     },
     "execution_count": 111,
     "metadata": {},
     "output_type": "execute_result"
    }
   ],
   "source": [
    "target_col = 'LoanStatus'\n",
    "raw_data[target_col].unique()"
   ]
  },
  {
   "cell_type": "code",
   "execution_count": 112,
   "id": "8373ee91-8658-4005-9904-9154156adb89",
   "metadata": {},
   "outputs": [],
   "source": [
    "\n",
    "binarized_vals = {\n",
    "    'Current': 0,\n",
    "    'Past Due (1-15 days)': 0,\n",
    "    'Defaulted': 1,\n",
    "    'Completed': 0,\n",
    "    'Chargedoff': 0,\n",
    "    'Past Due (16-30 days)': 0,\n",
    "    'Past Due (61-90 days)': 0,\n",
    "    'Past Due (31-60 days)': 0,\n",
    "    'Past Due (91-120 days)': 0,\n",
    "    'FinalPaymentInProgress': 0,\n",
    "    'Past Due (>120 days)': 0\n",
    "}"
   ]
  },
  {
   "cell_type": "code",
   "execution_count": 113,
   "id": "35573c1c-f877-4dd1-8d29-493493504c04",
   "metadata": {},
   "outputs": [],
   "source": [
    "raw_data[target_col] = raw_data[target_col].map(binarized_vals)\n"
   ]
  },
  {
   "cell_type": "markdown",
   "id": "a35902db-d31a-4021-8aa5-8f6140533c44",
   "metadata": {},
   "source": [
    "# FINAL DATASET"
   ]
  },
  {
   "cell_type": "code",
   "execution_count": 114,
   "id": "69fc9401-e961-48ed-bd56-b8dceafbeef2",
   "metadata": {},
   "outputs": [
    {
     "data": {
      "text/html": [
       "<div>\n",
       "<style scoped>\n",
       "    .dataframe tbody tr th:only-of-type {\n",
       "        vertical-align: middle;\n",
       "    }\n",
       "\n",
       "    .dataframe tbody tr th {\n",
       "        vertical-align: top;\n",
       "    }\n",
       "\n",
       "    .dataframe thead th {\n",
       "        text-align: right;\n",
       "    }\n",
       "</style>\n",
       "<table border=\"1\" class=\"dataframe\">\n",
       "  <thead>\n",
       "    <tr style=\"text-align: right;\">\n",
       "      <th></th>\n",
       "      <th>Term</th>\n",
       "      <th>LoanStatus</th>\n",
       "      <th>BorrowerAPR</th>\n",
       "      <th>BorrowerRate</th>\n",
       "      <th>LenderYield</th>\n",
       "      <th>EstimatedEffectiveYield</th>\n",
       "      <th>EstimatedLoss</th>\n",
       "      <th>EstimatedReturn</th>\n",
       "      <th>ProsperRating (numeric)</th>\n",
       "      <th>ProsperScore</th>\n",
       "      <th>...</th>\n",
       "      <th>EmploymentStatus_Other</th>\n",
       "      <th>EmploymentStatus_Part-time</th>\n",
       "      <th>EmploymentStatus_Retired</th>\n",
       "      <th>EmploymentStatus_Self-employed</th>\n",
       "      <th>IncomeRange_$1-24,999</th>\n",
       "      <th>IncomeRange_$100,000+</th>\n",
       "      <th>IncomeRange_$25,000-49,999</th>\n",
       "      <th>IncomeRange_$50,000-74,999</th>\n",
       "      <th>IncomeRange_$75,000-99,999</th>\n",
       "      <th>IncomeRange_Not employed</th>\n",
       "    </tr>\n",
       "  </thead>\n",
       "  <tbody>\n",
       "    <tr>\n",
       "      <th>0</th>\n",
       "      <td>36</td>\n",
       "      <td>0</td>\n",
       "      <td>0.12016</td>\n",
       "      <td>0.0920</td>\n",
       "      <td>0.0820</td>\n",
       "      <td>0.07960</td>\n",
       "      <td>0.0249</td>\n",
       "      <td>0.05470</td>\n",
       "      <td>6.0</td>\n",
       "      <td>7.0</td>\n",
       "      <td>...</td>\n",
       "      <td>False</td>\n",
       "      <td>False</td>\n",
       "      <td>False</td>\n",
       "      <td>False</td>\n",
       "      <td>False</td>\n",
       "      <td>False</td>\n",
       "      <td>False</td>\n",
       "      <td>True</td>\n",
       "      <td>False</td>\n",
       "      <td>False</td>\n",
       "    </tr>\n",
       "    <tr>\n",
       "      <th>1</th>\n",
       "      <td>36</td>\n",
       "      <td>0</td>\n",
       "      <td>0.12528</td>\n",
       "      <td>0.0974</td>\n",
       "      <td>0.0874</td>\n",
       "      <td>0.08490</td>\n",
       "      <td>0.0249</td>\n",
       "      <td>0.06000</td>\n",
       "      <td>6.0</td>\n",
       "      <td>9.0</td>\n",
       "      <td>...</td>\n",
       "      <td>False</td>\n",
       "      <td>False</td>\n",
       "      <td>False</td>\n",
       "      <td>False</td>\n",
       "      <td>False</td>\n",
       "      <td>False</td>\n",
       "      <td>True</td>\n",
       "      <td>False</td>\n",
       "      <td>False</td>\n",
       "      <td>False</td>\n",
       "    </tr>\n",
       "    <tr>\n",
       "      <th>2</th>\n",
       "      <td>36</td>\n",
       "      <td>0</td>\n",
       "      <td>0.24614</td>\n",
       "      <td>0.2085</td>\n",
       "      <td>0.1985</td>\n",
       "      <td>0.18316</td>\n",
       "      <td>0.0925</td>\n",
       "      <td>0.09066</td>\n",
       "      <td>3.0</td>\n",
       "      <td>4.0</td>\n",
       "      <td>...</td>\n",
       "      <td>False</td>\n",
       "      <td>False</td>\n",
       "      <td>False</td>\n",
       "      <td>False</td>\n",
       "      <td>False</td>\n",
       "      <td>True</td>\n",
       "      <td>False</td>\n",
       "      <td>False</td>\n",
       "      <td>False</td>\n",
       "      <td>False</td>\n",
       "    </tr>\n",
       "    <tr>\n",
       "      <th>3</th>\n",
       "      <td>60</td>\n",
       "      <td>0</td>\n",
       "      <td>0.15425</td>\n",
       "      <td>0.1314</td>\n",
       "      <td>0.1214</td>\n",
       "      <td>0.11567</td>\n",
       "      <td>0.0449</td>\n",
       "      <td>0.07077</td>\n",
       "      <td>5.0</td>\n",
       "      <td>10.0</td>\n",
       "      <td>...</td>\n",
       "      <td>False</td>\n",
       "      <td>False</td>\n",
       "      <td>False</td>\n",
       "      <td>False</td>\n",
       "      <td>False</td>\n",
       "      <td>True</td>\n",
       "      <td>False</td>\n",
       "      <td>False</td>\n",
       "      <td>False</td>\n",
       "      <td>False</td>\n",
       "    </tr>\n",
       "    <tr>\n",
       "      <th>4</th>\n",
       "      <td>36</td>\n",
       "      <td>0</td>\n",
       "      <td>0.31032</td>\n",
       "      <td>0.2712</td>\n",
       "      <td>0.2612</td>\n",
       "      <td>0.23820</td>\n",
       "      <td>0.1275</td>\n",
       "      <td>0.11070</td>\n",
       "      <td>2.0</td>\n",
       "      <td>2.0</td>\n",
       "      <td>...</td>\n",
       "      <td>False</td>\n",
       "      <td>False</td>\n",
       "      <td>False</td>\n",
       "      <td>False</td>\n",
       "      <td>False</td>\n",
       "      <td>False</td>\n",
       "      <td>True</td>\n",
       "      <td>False</td>\n",
       "      <td>False</td>\n",
       "      <td>False</td>\n",
       "    </tr>\n",
       "  </tbody>\n",
       "</table>\n",
       "<p>5 rows × 170 columns</p>\n",
       "</div>"
      ],
      "text/plain": [
       "   Term  LoanStatus  BorrowerAPR  BorrowerRate  LenderYield  \\\n",
       "0    36           0      0.12016        0.0920       0.0820   \n",
       "1    36           0      0.12528        0.0974       0.0874   \n",
       "2    36           0      0.24614        0.2085       0.1985   \n",
       "3    60           0      0.15425        0.1314       0.1214   \n",
       "4    36           0      0.31032        0.2712       0.2612   \n",
       "\n",
       "   EstimatedEffectiveYield  EstimatedLoss  EstimatedReturn  \\\n",
       "0                  0.07960         0.0249          0.05470   \n",
       "1                  0.08490         0.0249          0.06000   \n",
       "2                  0.18316         0.0925          0.09066   \n",
       "3                  0.11567         0.0449          0.07077   \n",
       "4                  0.23820         0.1275          0.11070   \n",
       "\n",
       "   ProsperRating (numeric)  ProsperScore  ...  EmploymentStatus_Other  \\\n",
       "0                      6.0           7.0  ...                   False   \n",
       "1                      6.0           9.0  ...                   False   \n",
       "2                      3.0           4.0  ...                   False   \n",
       "3                      5.0          10.0  ...                   False   \n",
       "4                      2.0           2.0  ...                   False   \n",
       "\n",
       "   EmploymentStatus_Part-time  EmploymentStatus_Retired  \\\n",
       "0                       False                     False   \n",
       "1                       False                     False   \n",
       "2                       False                     False   \n",
       "3                       False                     False   \n",
       "4                       False                     False   \n",
       "\n",
       "   EmploymentStatus_Self-employed  IncomeRange_$1-24,999  \\\n",
       "0                           False                  False   \n",
       "1                           False                  False   \n",
       "2                           False                  False   \n",
       "3                           False                  False   \n",
       "4                           False                  False   \n",
       "\n",
       "   IncomeRange_$100,000+  IncomeRange_$25,000-49,999  \\\n",
       "0                  False                       False   \n",
       "1                  False                        True   \n",
       "2                   True                       False   \n",
       "3                   True                       False   \n",
       "4                  False                        True   \n",
       "\n",
       "   IncomeRange_$50,000-74,999  IncomeRange_$75,000-99,999  \\\n",
       "0                        True                       False   \n",
       "1                       False                       False   \n",
       "2                       False                       False   \n",
       "3                       False                       False   \n",
       "4                       False                       False   \n",
       "\n",
       "   IncomeRange_Not employed  \n",
       "0                     False  \n",
       "1                     False  \n",
       "2                     False  \n",
       "3                     False  \n",
       "4                     False  \n",
       "\n",
       "[5 rows x 170 columns]"
      ]
     },
     "execution_count": 114,
     "metadata": {},
     "output_type": "execute_result"
    }
   ],
   "source": [
    "data = raw_data\n",
    "data.head()"
   ]
  },
  {
   "cell_type": "code",
   "execution_count": null,
   "id": "045bdf78-8049-4fe6-a3de-beda828e5db0",
   "metadata": {},
   "outputs": [],
   "source": []
  }
 ],
 "metadata": {
  "kernelspec": {
   "display_name": "Python 3 (ipykernel)",
   "language": "python",
   "name": "python3"
  },
  "language_info": {
   "codemirror_mode": {
    "name": "ipython",
    "version": 3
   },
   "file_extension": ".py",
   "mimetype": "text/x-python",
   "name": "python",
   "nbconvert_exporter": "python",
   "pygments_lexer": "ipython3",
   "version": "3.11.7"
  }
 },
 "nbformat": 4,
 "nbformat_minor": 5
}
